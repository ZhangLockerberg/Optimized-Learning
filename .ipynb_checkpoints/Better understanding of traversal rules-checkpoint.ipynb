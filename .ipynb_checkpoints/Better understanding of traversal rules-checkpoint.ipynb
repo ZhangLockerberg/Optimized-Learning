{
 "cells": [
  {
   "cell_type": "markdown",
   "metadata": {},
   "source": [
    "Initializing nodes.."
   ]
  },
  {
   "cell_type": "code",
   "execution_count": 1,
   "metadata": {},
   "outputs": [],
   "source": [
    "class Node:\n",
    "    def __init__(self, val, left=0, right=0):\n",
    "        self.val = val\n",
    "        self.left = left\n",
    "        self.right = right\n",
    "    def __str__(self):\n",
    "        return str(self.val)"
   ]
  },
  {
   "cell_type": "markdown",
   "metadata": {},
   "source": [
    "Define a tree.."
   ]
  },
  {
   "cell_type": "code",
   "execution_count": 2,
   "metadata": {},
   "outputs": [],
   "source": [
    "tree2 = Node(2)\n",
    "tree2.left = Node(4)\n",
    "tree2.right = Node(5)\n",
    "tree3 = Node(3)\n",
    "tree3.left = Node(6)\n",
    "tree3.right = Node(7)\n",
    "Tree = Node(1,tree2, tree3)"
   ]
  },
  {
   "cell_type": "code",
   "execution_count": 3,
   "metadata": {},
   "outputs": [
    {
     "name": "stdout",
     "output_type": "stream",
     "text": [
      "3\n"
     ]
    }
   ],
   "source": [
    "# a little test if successfully added\n",
    "print(Tree.right)"
   ]
  },
  {
   "cell_type": "markdown",
   "metadata": {},
   "source": [
    "Define a middle traversal method.."
   ]
  },
  {
   "cell_type": "code",
   "execution_count": 4,
   "metadata": {},
   "outputs": [
    {
     "data": {
      "text/plain": [
       "[4, 2, 5, 1, 6, 3, 7]"
      ]
     },
     "execution_count": 4,
     "metadata": {},
     "output_type": "execute_result"
    }
   ],
   "source": [
    "def mid_traversal(root):\n",
    "    nodes,values = [],[] # initialize node and value repositories\n",
    "    node = root\n",
    "    while len(nodes)>0 or node:\n",
    "        if node:\n",
    "            nodes.append(node)\n",
    "            node = node.left\n",
    "        else:\n",
    "            node = nodes.pop()\n",
    "            values.append(node.val)\n",
    "            node = node.right\n",
    "    return values\n",
    "\n",
    "# instantiate the function\n",
    "mid_traversal(Tree)"
   ]
  }
 ],
 "metadata": {
  "kernelspec": {
   "display_name": "Python 3",
   "language": "python",
   "name": "python3"
  },
  "language_info": {
   "codemirror_mode": {
    "name": "ipython",
    "version": 3
   },
   "file_extension": ".py",
   "mimetype": "text/x-python",
   "name": "python",
   "nbconvert_exporter": "python",
   "pygments_lexer": "ipython3",
   "version": "3.7.6"
  }
 },
 "nbformat": 4,
 "nbformat_minor": 4
}
